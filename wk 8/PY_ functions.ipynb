{
 "cells": [
  {
   "cell_type": "markdown",
   "metadata": {},
   "source": [
    "# Joshua Chavez\n",
    "## Week 8  3/5/24 -- 3/7/2024\n",
    "### Python Functions"
   ]
  },
  {
   "cell_type": "markdown",
   "metadata": {},
   "source": [
    "**Python Function format**\n",
    "<code> def function_name(args):\n",
    "    '''\n",
    "    docstring (Document string ) - this is where you decribe a function\n",
    "    '''\n",
    "    #stament(s) <code/> "
   ]
  },
  {
   "cell_type": "code",
   "execution_count": 1,
   "metadata": {},
   "outputs": [],
   "source": [
    "def welcome():\n",
    "    print('welcome to CIS310!')"
   ]
  },
  {
   "cell_type": "code",
   "execution_count": 2,
   "metadata": {},
   "outputs": [
    {
     "name": "stdout",
     "output_type": "stream",
     "text": [
      "welcome to CIS310!\n"
     ]
    }
   ],
   "source": [
    "welcome()"
   ]
  },
  {
   "cell_type": "code",
   "execution_count": 3,
   "metadata": {},
   "outputs": [],
   "source": [
    "def add_two_nums():\n",
    "    s= 5 +6 \n",
    "    print(s)"
   ]
  },
  {
   "cell_type": "code",
   "execution_count": 4,
   "metadata": {},
   "outputs": [],
   "source": [
    "a= 6\n",
    "b=20\n",
    "def add_two_num(a,b):\n",
    "    s= a +b \n",
    "    print(s)"
   ]
  },
  {
   "cell_type": "code",
   "execution_count": 5,
   "metadata": {},
   "outputs": [
    {
     "name": "stdout",
     "output_type": "stream",
     "text": [
      "26\n"
     ]
    }
   ],
   "source": [
    "add_two_num(a,b)"
   ]
  },
  {
   "cell_type": "code",
   "execution_count": 6,
   "metadata": {},
   "outputs": [],
   "source": [
    "def fun_great(name):\n",
    "    print(f\"Hello my name is \" + name)"
   ]
  },
  {
   "cell_type": "code",
   "execution_count": 8,
   "metadata": {},
   "outputs": [
    {
     "name": "stdout",
     "output_type": "stream",
     "text": [
      "Hello my name is James\n"
     ]
    }
   ],
   "source": [
    " fun_great('James')"
   ]
  },
  {
   "cell_type": "code",
   "execution_count": 13,
   "metadata": {},
   "outputs": [],
   "source": [
    "def add_two_num(a, b):\n",
    "    s = a + b\n",
    "    print(f'The sum of {a} and {b} is {s}')\n",
    "\n"
   ]
  },
  {
   "cell_type": "code",
   "execution_count": 14,
   "metadata": {},
   "outputs": [
    {
     "name": "stdout",
     "output_type": "stream",
     "text": [
      "The sum of 3 and 7 is 10\n"
     ]
    }
   ],
   "source": [
    "add_two_num(3,7)"
   ]
  },
  {
   "cell_type": "code",
   "execution_count": 15,
   "metadata": {},
   "outputs": [],
   "source": [
    "def avg_two(a, b):\n",
    "    s = a + b\n",
    "    s =s/2\n",
    "    print(f'The avg of {a} and {b} is {s}')\n",
    "\n"
   ]
  },
  {
   "cell_type": "code",
   "execution_count": 16,
   "metadata": {},
   "outputs": [
    {
     "name": "stdout",
     "output_type": "stream",
     "text": [
      "The avg of 10 and 20 is 15.0\n"
     ]
    }
   ],
   "source": [
    "avg_two(10,20)"
   ]
  },
  {
   "cell_type": "code",
   "execution_count": 17,
   "metadata": {},
   "outputs": [],
   "source": [
    "#return\n",
    "def sum_three_nums (a,b,c):\n",
    "    s=a+b+c\n",
    "    return s"
   ]
  },
  {
   "cell_type": "code",
   "execution_count": 18,
   "metadata": {},
   "outputs": [
    {
     "data": {
      "text/plain": [
       "48.5"
      ]
     },
     "execution_count": 18,
     "metadata": {},
     "output_type": "execute_result"
    }
   ],
   "source": [
    "sum_three_nums (12,32.5,4)"
   ]
  },
  {
   "cell_type": "code",
   "execution_count": 30,
   "metadata": {},
   "outputs": [],
   "source": [
    "def full_Name(fName,Lname):\n",
    "    return Lname + \", \"+ fName\n"
   ]
  },
  {
   "cell_type": "code",
   "execution_count": null,
   "metadata": {},
   "outputs": [],
   "source": [
    "def full_Name(x,y):\n",
    "    print(f\"This code{x} + {y)\n"
   ]
  },
  {
   "cell_type": "code",
   "execution_count": 31,
   "metadata": {},
   "outputs": [
    {
     "data": {
      "text/plain": [
       "'Bond, james'"
      ]
     },
     "execution_count": 31,
     "metadata": {},
     "output_type": "execute_result"
    }
   ],
   "source": [
    "full_Name ('james','Bond')"
   ]
  },
  {
   "cell_type": "code",
   "execution_count": 48,
   "metadata": {},
   "outputs": [],
   "source": [
    "def is_prime(num):\n",
    "    if num <= 1:\n",
    "        return False\n",
    "    for n in range(2, num):\n",
    "        if num % n == 0:\n",
    "            return False\n",
    "    else:\n",
    "        return True\n"
   ]
  },
  {
   "cell_type": "code",
   "execution_count": 49,
   "metadata": {},
   "outputs": [
    {
     "data": {
      "text/plain": [
       "False"
      ]
     },
     "execution_count": 49,
     "metadata": {},
     "output_type": "execute_result"
    }
   ],
   "source": [
    "is_prime(22)"
   ]
  },
  {
   "cell_type": "code",
   "execution_count": 1,
   "metadata": {},
   "outputs": [],
   "source": [
    "def caps_true_chars (word):\n",
    "    word.capitalize \n"
   ]
  },
  {
   "cell_type": "code",
   "execution_count": 5,
   "metadata": {},
   "outputs": [],
   "source": [
    "# Using keyword arguments and fixing the syntax error\n",
    "def my_kids(child1, child2, child3):\n",
    "    print(f'my first child is {child1}, second is {child2}, and third is {child3}')\n",
    "\n"
   ]
  },
  {
   "cell_type": "code",
   "execution_count": 6,
   "metadata": {},
   "outputs": [
    {
     "name": "stdout",
     "output_type": "stream",
     "text": [
      "my first child is Alice, second is Bob, and third is Charlie\n"
     ]
    }
   ],
   "source": [
    "# Calling the function with positional arguments\n",
    "my_kids(\"Alice\", \"Bob\", \"Charlie\")\n"
   ]
  },
  {
   "cell_type": "code",
   "execution_count": 10,
   "metadata": {},
   "outputs": [
    {
     "name": "stdout",
     "output_type": "stream",
     "text": [
      "my first child is Mikey, second is Bob, and third is Bobby\n"
     ]
    }
   ],
   "source": [
    "my_kids(child3='Bobby', child1='Mikey', child2='Bob')\n"
   ]
  },
  {
   "cell_type": "code",
   "execution_count": 11,
   "metadata": {},
   "outputs": [],
   "source": [
    "#Abtirary keyworrd Arguments \n",
    "#if the number of keywords is uknonown,\n",
    "# add a doubble **Before the parameter name:"
   ]
  },
  {
   "cell_type": "code",
   "execution_count": 14,
   "metadata": {},
   "outputs": [
    {
     "name": "stdout",
     "output_type": "stream",
     "text": [
      "My favorite fruit is apple\n",
      "My favorite drink is coffee\n",
      "Thank you\n"
     ]
    }
   ],
   "source": [
    "def my_food(**food):\n",
    "    if 'fruit' in food:\n",
    "        print(f\"My favorite fruit is {food['fruit']}\")\n",
    "    elif 'drink' in food:\n",
    "        print(f\"My favorite drink is {food['drink']}\")\n",
    "    else:\n",
    "        print(\"Thank you\")\n",
    "\n",
    "# Example usage:\n",
    "my_food(fruit='apple')\n",
    "my_food(drink='coffee')\n",
    "my_food(snack='chocolate')\n",
    "\n"
   ]
  },
  {
   "cell_type": "code",
   "execution_count": 15,
   "metadata": {},
   "outputs": [
    {
     "ename": "SyntaxError",
     "evalue": "invalid syntax (<ipython-input-15-083b0c69f02d>, line 4)",
     "output_type": "error",
     "traceback": [
      "\u001b[1;36m  File \u001b[1;32m\"<ipython-input-15-083b0c69f02d>\"\u001b[1;36m, line \u001b[1;32m4\u001b[0m\n\u001b[1;33m    print(f'I wwant  {' and '.join(food)} and my favrote {fruits['fruit']})\u001b[0m\n\u001b[1;37m                                                                      ^\u001b[0m\n\u001b[1;31mSyntaxError\u001b[0m\u001b[1;31m:\u001b[0m invalid syntax\n"
     ]
    }
   ],
   "source": [
    "# abutary args and keyword args \n",
    "def my_dinner(*food,**fruits):\n",
    "    if 'fruits' and 'juice' in fruits:\n",
    "        print(f'I wwant  {' and '.join(food)} and my favrote {fruits['fruit']})\n",
    "        print ('i also would like to have some{fruits[fruits['juice']} juice after dinner')\n",
    "                                                      \n",
    "    else print \"No thanks\""
   ]
  },
  {
   "cell_type": "code",
   "execution_count": 16,
   "metadata": {},
   "outputs": [
    {
     "name": "stdout",
     "output_type": "stream",
     "text": [
      "I want steak and salad and my favorite fruit is apple\n",
      "I also would like to have some orange juice after dinner\n",
      "No thanks\n",
      "No thanks\n"
     ]
    }
   ],
   "source": [
    "def my_dinner(*food, **fruits):\n",
    "    if 'fruit' in fruits and 'juice' in fruits:\n",
    "        print(f'I want {\" and \".join(food)} and my favorite fruit is {fruits[\"fruit\"]}')\n",
    "        print(f'I also would like to have some {fruits[\"juice\"]} juice after dinner')\n",
    "    else:\n",
    "        print(\"No thanks\")\n",
    "\n",
    "# Example usage:\n",
    "my_dinner('steak', 'salad', fruit='apple', juice='orange')\n",
    "my_dinner('pasta', 'bread', juice='grape')\n",
    "my_dinner('pizza')\n"
   ]
  },
  {
   "cell_type": "code",
   "execution_count": 22,
   "metadata": {},
   "outputs": [
    {
     "name": "stdout",
     "output_type": "stream",
     "text": [
      "Result for list1: True\n",
      "Result for list2: True\n",
      "Result for list3: False\n"
     ]
    }
   ],
   "source": [
    "def check_code_in_lists(lists):\n",
    "    pattern = [0, 0, 1]\n",
    "\n",
    "    for lst in lists:\n",
    "        for i in range(len(lst) - 2):\n",
    "            if lst[i:i+3] == pattern:\n",
    "                return True\n",
    "\n",
    "    return False\n",
    "\n",
    "# Example usage:\n",
    "list1 = [1, 3, 4, 0, 0, 1, 0, 2, 3]\n",
    "list2 = [2, 1, 0, 0, 1, 5, 6]\n",
    "list3 = [7, 8, 9, 3, 0, 1, 4]\n",
    "\n",
    "result1 = check_code_in_lists([list1])\n",
    "print(f\"Result for list1: {result1}\")\n",
    "\n",
    "result2 = check_code_in_lists([list2])\n",
    "print(f\"Result for list2: {result2}\")\n",
    "\n",
    "result3 = check_code_in_lists([list3])\n",
    "print(f\"Result for list3: {result3}\")\n"
   ]
  },
  {
   "cell_type": "code",
   "execution_count": null,
   "metadata": {},
   "outputs": [],
   "source": []
  }
 ],
 "metadata": {
  "kernelspec": {
   "display_name": "Python 3.7 - default",
   "language": "python",
   "name": "py37_default"
  },
  "language_info": {
   "codemirror_mode": {
    "name": "ipython",
    "version": 3
   },
   "file_extension": ".py",
   "mimetype": "text/x-python",
   "name": "python",
   "nbconvert_exporter": "python",
   "pygments_lexer": "ipython3",
   "version": "3.7.7"
  }
 },
 "nbformat": 4,
 "nbformat_minor": 4
}
