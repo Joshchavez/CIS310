{
 "cells": [
  {
   "cell_type": "markdown",
   "metadata": {},
   "source": [
    "# Joshua Chavez\n",
    "## Week 5  2/15/2024\n",
    "### Python Staments- if-else -else if "
   ]
  },
  {
   "cell_type": "markdown",
   "metadata": {},
   "source": [
    "** the format of the if stament**\n",
    "'''\n",
    "if condintion1:\n",
    "perform action1\n",
    "elid condition2:\n",
    "preform action2\n",
    "else:\n",
    "preform action3\n",
    "'''"
   ]
  },
  {
   "cell_type": "code",
   "execution_count": 5,
   "metadata": {},
   "outputs": [
    {
     "name": "stdout",
     "output_type": "stream",
     "text": [
      "High Five!\n"
     ]
    }
   ],
   "source": [
    "\n",
    "value = 5\n",
    "if value ==5:\n",
    "    print(\"High Five!\")"
   ]
  },
  {
   "cell_type": "code",
   "execution_count": 7,
   "metadata": {},
   "outputs": [
    {
     "name": "stdout",
     "output_type": "stream",
     "text": [
      "NOPE\n"
     ]
    }
   ],
   "source": [
    "value = 6\n",
    "if value ==5:\n",
    "    print(\"High Five!\")\n",
    "else:\n",
    "    print(\"NOPE\")"
   ]
  },
  {
   "cell_type": "code",
   "execution_count": 17,
   "metadata": {},
   "outputs": [
    {
     "name": "stdout",
     "output_type": "stream",
     "text": [
      "you can retake test 191\n"
     ]
    }
   ],
   "source": [
    "test1 = 91\n",
    "test2 = 98\n",
    "if(test1<test2):\n",
    "    print(f\"you can retake test 1{test1}\")\n",
    "else:\n",
    "    print(f\"redo test2 {test2}\")"
   ]
  },
  {
   "cell_type": "code",
   "execution_count": 19,
   "metadata": {},
   "outputs": [
    {
     "name": "stdout",
     "output_type": "stream",
     "text": [
      "you can retake test1 91\n"
     ]
    }
   ],
   "source": [
    "if(test1<test2):\n",
    "    print(f\"you can retake test1 {test1}\")\n",
    "elif test2 <test1:\n",
    "    print(f\"redo test2 {test2}\")\n",
    "else:\n",
    "    print(\"score are equal\")"
   ]
  },
  {
   "cell_type": "code",
   "execution_count": 34,
   "metadata": {},
   "outputs": [],
   "source": [
    "s = \"colorado\""
   ]
  },
  {
   "cell_type": "code",
   "execution_count": 35,
   "metadata": {},
   "outputs": [
    {
     "name": "stdout",
     "output_type": "stream",
     "text": [
      "Welcome to Colorado\n"
     ]
    }
   ],
   "source": [
    "if s == 'colorado':\n",
    "    print(\"Welcome to Colorado\")\n",
    "elif s == \"flordia\":\n",
    "     print(\"Welcome to Flordia\")\n",
    "elif s == 'texas':\n",
    "    print(\"Welcome to texas\")\n",
    "elif s == \"utah\":\n",
    "     print(\"Welcome to Utah\")\n",
    "else:\n",
    "    \"welcome to earth\""
   ]
  },
  {
   "cell_type": "code",
   "execution_count": 36,
   "metadata": {},
   "outputs": [],
   "source": [
    "Welcome = {\"colorado\":\"Welcome to Colorado\", \"flordia\":\"Welcome to Flordia\",\"texas\":\"Welcome to texas\", 'utah':\"Welcome to Utah\"\n",
    "}"
   ]
  },
  {
   "cell_type": "code",
   "execution_count": 37,
   "metadata": {},
   "outputs": [
    {
     "data": {
      "text/plain": [
       "{'colorado': 'Welcome to Colorado',\n",
       " 'flordia': 'Welcome to Flordia',\n",
       " 'texas': 'Welcome to texas',\n",
       " 'utah': 'Welcome to Utah'}"
      ]
     },
     "execution_count": 37,
     "metadata": {},
     "output_type": "execute_result"
    }
   ],
   "source": [
    "Welcome"
   ]
  },
  {
   "cell_type": "code",
   "execution_count": 38,
   "metadata": {},
   "outputs": [
    {
     "data": {
      "text/plain": [
       "'Welcome to Colorado'"
      ]
     },
     "execution_count": 38,
     "metadata": {},
     "output_type": "execute_result"
    }
   ],
   "source": [
    "Welcome[s]"
   ]
  },
  {
   "cell_type": "code",
   "execution_count": 39,
   "metadata": {},
   "outputs": [
    {
     "data": {
      "text/plain": [
       "'Welcome to Colorado'"
      ]
     },
     "execution_count": 39,
     "metadata": {},
     "output_type": "execute_result"
    }
   ],
   "source": [
    "Welcome.get(s, \"Welcome to earth\")"
   ]
  },
  {
   "cell_type": "code",
   "execution_count": 40,
   "metadata": {},
   "outputs": [],
   "source": [
    "s= \"meow\""
   ]
  },
  {
   "cell_type": "code",
   "execution_count": 41,
   "metadata": {},
   "outputs": [
    {
     "ename": "KeyError",
     "evalue": "'meow'",
     "output_type": "error",
     "traceback": [
      "\u001b[1;31m---------------------------------------------------------------------------\u001b[0m",
      "\u001b[1;31mKeyError\u001b[0m                                  Traceback (most recent call last)",
      "\u001b[1;32m<ipython-input-41-40ad1d54fd1e>\u001b[0m in \u001b[0;36m<module>\u001b[1;34m\u001b[0m\n\u001b[1;32m----> 1\u001b[1;33m \u001b[0mWelcome\u001b[0m\u001b[1;33m[\u001b[0m\u001b[0ms\u001b[0m\u001b[1;33m]\u001b[0m\u001b[1;33m\u001b[0m\u001b[1;33m\u001b[0m\u001b[0m\n\u001b[0m",
      "\u001b[1;31mKeyError\u001b[0m: 'meow'"
     ]
    }
   ],
   "source": [
    "Welcome.get[s]"
   ]
  },
  {
   "cell_type": "code",
   "execution_count": 42,
   "metadata": {},
   "outputs": [
    {
     "data": {
      "text/plain": [
       "'Welcome to earth'"
      ]
     },
     "execution_count": 42,
     "metadata": {},
     "output_type": "execute_result"
    }
   ],
   "source": [
    "Welcome.get(s, \"Welcome to earth\")"
   ]
  }
 ],
 "metadata": {
  "kernelspec": {
   "display_name": "Python 3.7 - default",
   "language": "python",
   "name": "py37_default"
  },
  "language_info": {
   "codemirror_mode": {
    "name": "ipython",
    "version": 3
   },
   "file_extension": ".py",
   "mimetype": "text/x-python",
   "name": "python",
   "nbconvert_exporter": "python",
   "pygments_lexer": "ipython3",
   "version": "3.7.7"
  }
 },
 "nbformat": 4,
 "nbformat_minor": 4
}
