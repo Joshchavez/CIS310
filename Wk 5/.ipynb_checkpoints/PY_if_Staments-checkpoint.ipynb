{
 "cells": [
  {
   "cell_type": "markdown",
   "metadata": {},
   "source": [
    "# Joshua Chavez\n",
    "## Week 5  2/15/2024\n",
    "### Python Staments- if-else -else if "
   ]
  },
  {
   "cell_type": "markdown",
   "metadata": {},
   "source": [
    "** the format of the if stament**\n",
    "'''\n",
    "if condintion1:\n",
    "perform action1\n",
    "elid condition2:\n",
    "preform action2\n",
    "else:\n",
    "preform action3\n",
    "'''"
   ]
  },
  {
   "cell_type": "code",
   "execution_count": 5,
   "metadata": {},
   "outputs": [
    {
     "name": "stdout",
     "output_type": "stream",
     "text": [
      "High Five!\n"
     ]
    }
   ],
   "source": [
    "\n",
    "value = 5\n",
    "if value ==5:\n",
    "    print(\"High Five!\")"
   ]
  },
  {
   "cell_type": "code",
   "execution_count": 7,
   "metadata": {},
   "outputs": [
    {
     "name": "stdout",
     "output_type": "stream",
     "text": [
      "NOPE\n"
     ]
    }
   ],
   "source": [
    "value = 6\n",
    "if value ==5:\n",
    "    print(\"High Five!\")\n",
    "else:\n",
    "    print(\"NOPE\")"
   ]
  },
  {
   "cell_type": "code",
   "execution_count": 17,
   "metadata": {},
   "outputs": [
    {
     "name": "stdout",
     "output_type": "stream",
     "text": [
      "you can retake test 191\n"
     ]
    }
   ],
   "source": [
    "test1 = 91\n",
    "test2 = 98\n",
    "if(test1<test2):\n",
    "    print(f\"you can retake test 1{test1}\")\n",
    "else:\n",
    "    print(f\"redo test2 {test2}\")"
   ]
  },
  {
   "cell_type": "code",
   "execution_count": 19,
   "metadata": {},
   "outputs": [
    {
     "name": "stdout",
     "output_type": "stream",
     "text": [
      "you can retake test1 91\n"
     ]
    }
   ],
   "source": [
    "if(test1<test2):\n",
    "    print(f\"you can retake test1 {test1}\")\n",
    "elif test2 <test1:\n",
    "    print(f\"redo test2 {test2}\")\n",
    "else:\n",
    "    print(\"score are equal\")"
   ]
  },
  {
   "cell_type": "code",
   "execution_count": null,
   "metadata": {},
   "outputs": [],
   "source": []
  }
 ],
 "metadata": {
  "kernelspec": {
   "display_name": "Python 3.7 - default",
   "language": "python",
   "name": "py37_default"
  },
  "language_info": {
   "codemirror_mode": {
    "name": "ipython",
    "version": 3
   },
   "file_extension": ".py",
   "mimetype": "text/x-python",
   "name": "python",
   "nbconvert_exporter": "python",
   "pygments_lexer": "ipython3",
   "version": "3.7.7"
  }
 },
 "nbformat": 4,
 "nbformat_minor": 4
}
