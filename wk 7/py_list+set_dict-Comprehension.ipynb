{
 "cells": [
  {
   "cell_type": "markdown",
   "metadata": {},
   "source": [
    "# Joshua Chavez\n",
    "## Week 7  2/27/24\n",
    "### Python - py_list+set_dict-Comprehension"
   ]
  },
  {
   "cell_type": "markdown",
   "metadata": {},
   "source": [
    "## List Compresehension Format:\n",
    "- <code> new_list = [expression ** for member in iterable**]<code/>\n",
    "    \n",
    "### Using Condinal Logic ( filter and Map)\n",
    "    \n",
    "- filter:<code>new_list = [expression ** for member iin iterable** (if conditional)]<code/>\n",
    "    \n",
    "- map:<code>new_list = [expression (if conditional) ** for member iin iterable**]<code/>"
   ]
  },
  {
   "cell_type": "code",
   "execution_count": 6,
   "metadata": {},
   "outputs": [],
   "source": [
    "s = \"Welcome to CIS310\""
   ]
  },
  {
   "cell_type": "code",
   "execution_count": 7,
   "metadata": {},
   "outputs": [],
   "source": [
    "lst = []"
   ]
  },
  {
   "cell_type": "code",
   "execution_count": 9,
   "metadata": {},
   "outputs": [
    {
     "data": {
      "text/plain": [
       "['W',\n",
       " 'e',\n",
       " 'l',\n",
       " 'c',\n",
       " 'o',\n",
       " 'm',\n",
       " 'e',\n",
       " ' ',\n",
       " 't',\n",
       " 'o',\n",
       " ' ',\n",
       " 'C',\n",
       " 'I',\n",
       " 'S',\n",
       " '3',\n",
       " '1',\n",
       " '0',\n",
       " 'W',\n",
       " 'e',\n",
       " 'l',\n",
       " 'c',\n",
       " 'o',\n",
       " 'm',\n",
       " 'e',\n",
       " ' ',\n",
       " 't',\n",
       " 'o',\n",
       " ' ',\n",
       " 'C',\n",
       " 'I',\n",
       " 'S',\n",
       " '3',\n",
       " '1',\n",
       " '0']"
      ]
     },
     "execution_count": 9,
     "metadata": {},
     "output_type": "execute_result"
    }
   ],
   "source": [
    "for letter in s:\n",
    "    lst.append(letter)\n",
    "    \n",
    "lst"
   ]
  },
  {
   "cell_type": "code",
   "execution_count": 11,
   "metadata": {},
   "outputs": [
    {
     "data": {
      "text/plain": [
       "['W',\n",
       " 'e',\n",
       " 'l',\n",
       " 'c',\n",
       " 'o',\n",
       " 'm',\n",
       " 'e',\n",
       " ' ',\n",
       " 't',\n",
       " 'o',\n",
       " ' ',\n",
       " 'C',\n",
       " 'I',\n",
       " 'S',\n",
       " '3',\n",
       " '1',\n",
       " '0']"
      ]
     },
     "execution_count": 11,
     "metadata": {},
     "output_type": "execute_result"
    }
   ],
   "source": [
    "# new_list = [expression ** for member in iterable**]\n",
    "lst = [letter for letter in s]\n",
    "lst"
   ]
  },
  {
   "cell_type": "code",
   "execution_count": 13,
   "metadata": {},
   "outputs": [
    {
     "data": {
      "text/plain": [
       "[1, 4, 9, 16, 25, 36, 49, 64, 81, 100]"
      ]
     },
     "execution_count": 13,
     "metadata": {},
     "output_type": "execute_result"
    }
   ],
   "source": [
    "square = []\n",
    "for n in range (1,11):\n",
    "    square.append(n**2)\n",
    "    \n",
    "square"
   ]
  },
  {
   "cell_type": "code",
   "execution_count": 14,
   "metadata": {},
   "outputs": [
    {
     "data": {
      "text/plain": [
       "[1, 4, 9, 16, 25, 36, 49, 64, 81, 100]"
      ]
     },
     "execution_count": 14,
     "metadata": {},
     "output_type": "execute_result"
    }
   ],
   "source": [
    "# new_list = [expression ** for member in iterable**]\n",
    "square = [n**2 for n in range (1,11)]\n",
    "square"
   ]
  },
  {
   "cell_type": "code",
   "execution_count": 23,
   "metadata": {},
   "outputs": [
    {
     "name": "stdout",
     "output_type": "stream",
     "text": [
      "[53.96, 55.400000000000006, 60.8, 69.80000000000001, 40.28]\n"
     ]
    }
   ],
   "source": [
    "c_lst = [12.2, 13, 16, 21, 4.6]\n",
    "f_lst = [t * (9/5) + 32 for t in c_lst]\n",
    "\n",
    "print(f_lst)\n"
   ]
  },
  {
   "cell_type": "code",
   "execution_count": 22,
   "metadata": {},
   "outputs": [
    {
     "name": "stdout",
     "output_type": "stream",
     "text": [
      "[53.96, 55.400000000000006, 60.8, 69.80000000000001, 40.28]\n"
     ]
    }
   ],
   "source": [
    "c_lst = [12.2, 13, 16, 21, 4.6]\n",
    "f_lst = [t * (9/5) + 32 for t in c_lst]\n",
    "\n",
    "print(f_lst)\n"
   ]
  },
  {
   "cell_type": "code",
   "execution_count": 26,
   "metadata": {},
   "outputs": [
    {
     "data": {
      "text/plain": [
       "[13.284000000000002, 1.296, 3.5964000000000005, 12.96, 10.8, 1.08]"
      ]
     },
     "execution_count": 26,
     "metadata": {},
     "output_type": "execute_result"
    }
   ],
   "source": [
    "#calculate the price affter tax \n",
    "txns = [12.3,1.2,3.33,12,10,1]\n",
    "tax_rate = .08\n",
    "final_prices=[t*(1+tax_rate)for t in txns]\n",
    "final_prices"
   ]
  },
  {
   "cell_type": "code",
   "execution_count": 3,
   "metadata": {},
   "outputs": [
    {
     "data": {
      "text/plain": [
       "[4, 16, 36, 64, 100, 144, 196]"
      ]
     },
     "execution_count": 3,
     "metadata": {},
     "output_type": "execute_result"
    }
   ],
   "source": [
    "# filter:new_list = [expression ** for member in iterable** (if conditional)]\n",
    "squares = [n**2 for n in range (1,16) if n%2 ==0 ]\n",
    "squares"
   ]
  },
  {
   "cell_type": "code",
   "execution_count": 5,
   "metadata": {},
   "outputs": [
    {
     "data": {
      "text/plain": [
       "[0, 10, 20, 30, 40, 50, 60, 70, 80, 90, 100]"
      ]
     },
     "execution_count": 5,
     "metadata": {},
     "output_type": "execute_result"
    }
   ],
   "source": [
    "lst = [n for n in range (101) if n%5 ==0 if n%10 ==0 ]\n",
    "lst"
   ]
  },
  {
   "cell_type": "code",
   "execution_count": 12,
   "metadata": {},
   "outputs": [
    {
     "data": {
      "text/plain": [
       "['I', 'o', 'u', 'i', 'a', 'e', 'u', 'e', 'i', 'a', 'a', 'i', 'a', 'i', 'i']"
      ]
     },
     "execution_count": 12,
     "metadata": {},
     "output_type": "execute_result"
    }
   ],
   "source": [
    "s = \"CIS310 comunicate students wih analytical thinking\"\n",
    "vowels = 'aeiou'\n",
    "lst = [letter for letter in s if letter.lower() in vowels ]\n",
    "lst"
   ]
  },
  {
   "cell_type": "code",
   "execution_count": 14,
   "metadata": {},
   "outputs": [
    {
     "data": {
      "text/plain": [
       "True"
      ]
     },
     "execution_count": 14,
     "metadata": {},
     "output_type": "execute_result"
    }
   ],
   "source": [
    "'a'.islower()"
   ]
  },
  {
   "cell_type": "code",
   "execution_count": 16,
   "metadata": {},
   "outputs": [
    {
     "data": {
      "text/plain": [
       "[1.25, 14.99, 0, 3.78, 0, 11.2]"
      ]
     },
     "execution_count": 16,
     "metadata": {},
     "output_type": "execute_result"
    }
   ],
   "source": [
    "#map a value :new_list = [expression (if conditional) ** for member in iterable**]\n",
    "prices = [1.25, 14.99,-9.45,3.78,-5.76,11.20]\n",
    "new_prices = [v if v> 0 else 0 for v in prices]\n",
    "new_prices"
   ]
  },
  {
   "cell_type": "code",
   "execution_count": 19,
   "metadata": {},
   "outputs": [
    {
     "data": {
      "text/plain": [
       "['odd',\n",
       " 'even',\n",
       " 'odd',\n",
       " 'even',\n",
       " 'odd',\n",
       " 'even',\n",
       " 'odd',\n",
       " 'even',\n",
       " 'odd',\n",
       " 'even',\n",
       " 'odd',\n",
       " 'even',\n",
       " 'odd',\n",
       " 'even',\n",
       " 'odd']"
      ]
     },
     "execution_count": 19,
     "metadata": {},
     "output_type": "execute_result"
    }
   ],
   "source": [
    "\n",
    "lst = [\"even\" if n%2==0 else 'odd' for n in range(1,16)]\n",
    "lst"
   ]
  },
  {
   "cell_type": "code",
   "execution_count": 22,
   "metadata": {},
   "outputs": [
    {
     "data": {
      "text/plain": [
       "['S',\n",
       " 't',\n",
       " 'd',\n",
       " 's',\n",
       " 'f',\n",
       " 'n',\n",
       " 'd',\n",
       " 't',\n",
       " 'h',\n",
       " 't',\n",
       " 'f',\n",
       " 'n',\n",
       " 'c',\n",
       " 'l',\n",
       " 'm',\n",
       " 'p',\n",
       " 'c',\n",
       " 'r',\n",
       " 'f',\n",
       " 'p',\n",
       " 'r',\n",
       " 'q',\n",
       " 'l',\n",
       " 't',\n",
       " 'y',\n",
       " 'd',\n",
       " 't',\n",
       " 'c',\n",
       " 's',\n",
       " 't',\n",
       " 't',\n",
       " 'r',\n",
       " 'l',\n",
       " 'l',\n",
       " 'n']"
      ]
     },
     "execution_count": 22,
     "metadata": {},
     "output_type": "execute_result"
    }
   ],
   "source": [
    "#comditional logic - and or\n",
    "s=\" Stuides found that finacial impacr of poor-quality data cost $3.1 trillion\"\n",
    "vowels = 'aeiou'\n",
    "consonats = [letters for letters in s if letters.isalpha() and letters.lower() not in vowels]\n",
    "consonats"
   ]
  },
  {
   "cell_type": "code",
   "execution_count": 23,
   "metadata": {},
   "outputs": [
    {
     "data": {
      "text/plain": [
       "[0, 4, 16, 36, 64, 100, 144, 196, 256, 324]"
      ]
     },
     "execution_count": 23,
     "metadata": {},
     "output_type": "execute_result"
    }
   ],
   "source": [
    "#nested list comprehemsions\n",
    "lst = [n**2 for n in[num for num in range(20) if num%2 == 0]]\n",
    "lst"
   ]
  },
  {
   "cell_type": "code",
   "execution_count": 24,
   "metadata": {},
   "outputs": [
    {
     "data": {
      "text/plain": [
       "{0, 1, 2, 3, 4, 5, 6, 7, 8, 9, 10, 11, 12, 13, 14}"
      ]
     },
     "execution_count": 24,
     "metadata": {},
     "output_type": "execute_result"
    }
   ],
   "source": [
    "#Useing set and Dictomnary Compreshension \n",
    "s = {n for n in range (15)}\n",
    "s"
   ]
  },
  {
   "cell_type": "code",
   "execution_count": 26,
   "metadata": {},
   "outputs": [
    {
     "data": {
      "text/plain": [
       "{'a', 'e', 'i', 'o', 'u'}"
      ]
     },
     "execution_count": 26,
     "metadata": {},
     "output_type": "execute_result"
    }
   ],
   "source": [
    "s = \"data preperatioon consumes an amount of time 80% spent on analytics\"\n",
    "set_of_vowels = {letter for letter in s if letter in 'aeiou'}\n",
    "set_of_vowels"
   ]
  },
  {
   "cell_type": "code",
   "execution_count": 32,
   "metadata": {},
   "outputs": [
    {
     "data": {
      "text/plain": [
       "{0: (),\n",
       " 1: (0,),\n",
       " 2: (0, 1),\n",
       " 3: (0, 1, 2),\n",
       " 4: (0, 1, 2, 3),\n",
       " 5: (0, 1, 2, 3, 4),\n",
       " 6: (0, 1, 2, 3, 4, 5),\n",
       " 7: (0, 1, 2, 3, 4, 5, 6),\n",
       " 8: (0, 1, 2, 3, 4, 5, 6, 7),\n",
       " 9: (0, 1, 2, 3, 4, 5, 6, 7, 8)}"
      ]
     },
     "execution_count": 32,
     "metadata": {},
     "output_type": "execute_result"
    }
   ],
   "source": [
    "\n",
    "dt = {n:tuple(range(n)) for n in range(10)}\n",
    "dt"
   ]
  },
  {
   "cell_type": "code",
   "execution_count": 39,
   "metadata": {},
   "outputs": [
    {
     "data": {
      "text/plain": [
       "{'Denver': (40, 41, 42, 43, 44, 45, 46, 47, 48, 49),\n",
       " 'Durango': (40, 41, 42, 43, 44, 45, 46, 47, 48, 49),\n",
       " 'Ashville': (40, 41, 42, 43, 44, 45, 46, 47, 48, 49),\n",
       " 'Narobi': (40, 41, 42, 43, 44, 45, 46, 47, 48, 49),\n",
       " 'Paris': (40, 41, 42, 43, 44, 45, 46, 47, 48, 49)}"
      ]
     },
     "execution_count": 39,
     "metadata": {},
     "output_type": "execute_result"
    }
   ],
   "source": [
    "cites=[\"Denver\",'Durango','Ashville','Narobi','Paris']\n",
    "temps =  {n:tuple(range(40,50)) for n in cites}\n",
    "temps"
   ]
  },
  {
   "cell_type": "code",
   "execution_count": 46,
   "metadata": {},
   "outputs": [
    {
     "data": {
      "text/plain": [
       "{'Denver': 40, 'Durango': 41, 'Ashville': 40, 'Narobi': 45, 'Paris': 45}"
      ]
     },
     "execution_count": 46,
     "metadata": {},
     "output_type": "execute_result"
    }
   ],
   "source": [
    "from random import randint\n",
    "cites=[\"Denver\",'Durango','Ashville','Narobi','Paris']\n",
    "temps =  {name:randint(40,50) for name in cites}\n",
    "temps"
   ]
  },
  {
   "cell_type": "code",
   "execution_count": 58,
   "metadata": {},
   "outputs": [
    {
     "data": {
      "text/plain": [
       "['yes', 'no', 'yes', 'idel', 'no', 'idel', 'idel', 'no', 'idel']"
      ]
     },
     "execution_count": 58,
     "metadata": {},
     "output_type": "execute_result"
    }
   ],
   "source": [
    "l = [1,2,1,3,2,12,4,2,4]\n",
    "d = {1: 'yes', 2: \"no\"}#get(),idle\n",
    "lst = [d.get(n, 'idel') for n in l]\n",
    "lst"
   ]
  },
  {
   "cell_type": "code",
   "execution_count": 59,
   "metadata": {},
   "outputs": [],
   "source": [
    "d.get(3)"
   ]
  },
  {
   "cell_type": "code",
   "execution_count": 60,
   "metadata": {},
   "outputs": [
    {
     "data": {
      "text/plain": [
       "'yes'"
      ]
     },
     "execution_count": 60,
     "metadata": {},
     "output_type": "execute_result"
    }
   ],
   "source": [
    "d.get(1)"
   ]
  },
  {
   "cell_type": "code",
   "execution_count": 61,
   "metadata": {},
   "outputs": [
    {
     "data": {
      "text/plain": [
       "'yes'"
      ]
     },
     "execution_count": 61,
     "metadata": {},
     "output_type": "execute_result"
    }
   ],
   "source": [
    "d.get(1,\"idel\")"
   ]
  },
  {
   "cell_type": "code",
   "execution_count": 63,
   "metadata": {},
   "outputs": [
    {
     "data": {
      "text/plain": [
       "'idel'"
      ]
     },
     "execution_count": 63,
     "metadata": {},
     "output_type": "execute_result"
    }
   ],
   "source": [
    "d.get(21,\"idel\")"
   ]
  },
  {
   "cell_type": "code",
   "execution_count": 66,
   "metadata": {},
   "outputs": [
    {
     "name": "stdout",
     "output_type": "stream",
     "text": [
      "['yes', 'no', 'yes', 'idle', 'no', 'idle', 'idle', 'no', 'idle']\n"
     ]
    }
   ],
   "source": [
    "l = [1, 2, 1, 3, 2, 12, 4, 2, 4]\n",
    "lst = ['yes' if n == 1 else 'no' if n == 2 else 'idle' for n in l]\n",
    "print(lst)\n"
   ]
  },
  {
   "cell_type": "code",
   "execution_count": 69,
   "metadata": {},
   "outputs": [
    {
     "data": {
      "text/plain": [
       "['Pending',\n",
       " 'Pending',\n",
       " 'reject',\n",
       " 'Pending',\n",
       " 'Pending',\n",
       " 'acccept',\n",
       " 'Pending',\n",
       " 'reject',\n",
       " 'Pending']"
      ]
     },
     "execution_count": 69,
     "metadata": {},
     "output_type": "execute_result"
    }
   ],
   "source": [
    "x = [5,2,1,2,3,4,2,1,3]# 4= accept, 1= reject , pending anything else\n",
    "d = {1: 'reject', 4: \"acccept\"}#get(),idle\n",
    "lst = [d.get(n, 'Pending') for n in x]\n",
    "lst"
   ]
  },
  {
   "cell_type": "code",
   "execution_count": null,
   "metadata": {},
   "outputs": [],
   "source": []
  }
 ],
 "metadata": {
  "kernelspec": {
   "display_name": "Python 3.7 - default",
   "language": "python",
   "name": "py37_default"
  },
  "language_info": {
   "codemirror_mode": {
    "name": "ipython",
    "version": 3
   },
   "file_extension": ".py",
   "mimetype": "text/x-python",
   "name": "python",
   "nbconvert_exporter": "python",
   "pygments_lexer": "ipython3",
   "version": "3.7.7"
  }
 },
 "nbformat": 4,
 "nbformat_minor": 4
}
