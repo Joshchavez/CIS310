{
 "cells": [
  {
   "cell_type": "markdown",
   "metadata": {},
   "source": [
    "# Joshua Chavez\n",
    "## Week 12 -   4/2/24 \n",
    "### Python numpy creating,processing transporting arrays "
   ]
  },
  {
   "cell_type": "code",
   "execution_count": 1,
   "metadata": {},
   "outputs": [],
   "source": [
    "import numpy as np"
   ]
  },
  {
   "cell_type": "code",
   "execution_count": 3,
   "metadata": {},
   "outputs": [
    {
     "data": {
      "text/plain": [
       "array([[1, 2, 3, 4],\n",
       "       [5, 6, 7, 8]])"
      ]
     },
     "execution_count": 3,
     "metadata": {},
     "output_type": "execute_result"
    }
   ],
   "source": [
    "arr_2d = np.arange(1,9).reshape(2,4)\n",
    "arr_2d"
   ]
  },
  {
   "cell_type": "code",
   "execution_count": 4,
   "metadata": {},
   "outputs": [
    {
     "data": {
      "text/plain": [
       "array([[[1, 2],\n",
       "        [3, 4]],\n",
       "\n",
       "       [[5, 6],\n",
       "        [7, 8]]])"
      ]
     },
     "execution_count": 4,
     "metadata": {},
     "output_type": "execute_result"
    }
   ],
   "source": [
    "arr_3d = np.arange(1,9).reshape(2,2,2)\n",
    "arr_3d"
   ]
  },
  {
   "cell_type": "code",
   "execution_count": 5,
   "metadata": {},
   "outputs": [
    {
     "name": "stdout",
     "output_type": "stream",
     "text": [
      "[[[1 2]\n",
      "  [3 4]]\n",
      "\n",
      " [[5 6]\n",
      "  [7 8]]]\n"
     ]
    }
   ],
   "source": [
    "print(arr_3d)"
   ]
  },
  {
   "cell_type": "code",
   "execution_count": 6,
   "metadata": {},
   "outputs": [
    {
     "data": {
      "text/plain": [
       "array([[1, 2, 3, 4],\n",
       "       [5, 6, 7, 8]])"
      ]
     },
     "execution_count": 6,
     "metadata": {},
     "output_type": "execute_result"
    }
   ],
   "source": [
    "# pass -1 as the value, and numpy will calc this number for you.\n",
    "arr_2d = np.arange(1,9).reshape(2,-1)\n",
    "arr_2d"
   ]
  },
  {
   "cell_type": "code",
   "execution_count": 32,
   "metadata": {},
   "outputs": [
    {
     "data": {
      "text/plain": [
       "array([[[[[   1,    2,    3,    4],\n",
       "          [   5,    6,    7,    8]],\n",
       "\n",
       "         [[   9,   10,   11,   12],\n",
       "          [  13,   14,   15,   16]],\n",
       "\n",
       "         [[  17,   18,   19,   20],\n",
       "          [  21,   22,   23,   24]],\n",
       "\n",
       "         [[  25,   26,   27,   28],\n",
       "          [  29,   30,   31,   32]],\n",
       "\n",
       "         [[  33,   34,   35,   36],\n",
       "          [  37,   38,   39,   40]]],\n",
       "\n",
       "\n",
       "        [[[  41,   42,   43,   44],\n",
       "          [  45,   46,   47,   48]],\n",
       "\n",
       "         [[  49,   50,   51,   52],\n",
       "          [  53,   54,   55,   56]],\n",
       "\n",
       "         [[  57,   58,   59,   60],\n",
       "          [  61,   62,   63,   64]],\n",
       "\n",
       "         [[  65,   66,   67,   68],\n",
       "          [  69,   70,   71,   72]],\n",
       "\n",
       "         [[  73,   74,   75,   76],\n",
       "          [  77,   78,   79,   80]]],\n",
       "\n",
       "\n",
       "        [[[  81,   82,   83,   84],\n",
       "          [  85,   86,   87,   88]],\n",
       "\n",
       "         [[  89,   90,   91,   92],\n",
       "          [  93,   94,   95,   96]],\n",
       "\n",
       "         [[  97,   98,   99,  100],\n",
       "          [ 101,  102,  103,  104]],\n",
       "\n",
       "         [[ 105,  106,  107,  108],\n",
       "          [ 109,  110,  111,  112]],\n",
       "\n",
       "         [[ 113,  114,  115,  116],\n",
       "          [ 117,  118,  119,  120]]],\n",
       "\n",
       "\n",
       "        [[[ 121,  122,  123,  124],\n",
       "          [ 125,  126,  127,  128]],\n",
       "\n",
       "         [[ 129,  130,  131,  132],\n",
       "          [ 133,  134,  135,  136]],\n",
       "\n",
       "         [[ 137,  138,  139,  140],\n",
       "          [ 141,  142,  143,  144]],\n",
       "\n",
       "         [[ 145,  146,  147,  148],\n",
       "          [ 149,  150,  151,  152]],\n",
       "\n",
       "         [[ 153,  154,  155,  156],\n",
       "          [ 157,  158,  159,  160]]],\n",
       "\n",
       "\n",
       "        [[[ 161,  162,  163,  164],\n",
       "          [ 165,  166,  167,  168]],\n",
       "\n",
       "         [[ 169,  170,  171,  172],\n",
       "          [ 173,  174,  175,  176]],\n",
       "\n",
       "         [[ 177,  178,  179,  180],\n",
       "          [ 181,  182,  183,  184]],\n",
       "\n",
       "         [[ 185,  186,  187,  188],\n",
       "          [ 189,  190,  191,  192]],\n",
       "\n",
       "         [[ 193,  194,  195,  196],\n",
       "          [ 197,  198,  199,  200]]]],\n",
       "\n",
       "\n",
       "\n",
       "       [[[[ 201,  202,  203,  204],\n",
       "          [ 205,  206,  207,  208]],\n",
       "\n",
       "         [[ 209,  210,  211,  212],\n",
       "          [ 213,  214,  215,  216]],\n",
       "\n",
       "         [[ 217,  218,  219,  220],\n",
       "          [ 221,  222,  223,  224]],\n",
       "\n",
       "         [[ 225,  226,  227,  228],\n",
       "          [ 229,  230,  231,  232]],\n",
       "\n",
       "         [[ 233,  234,  235,  236],\n",
       "          [ 237,  238,  239,  240]]],\n",
       "\n",
       "\n",
       "        [[[ 241,  242,  243,  244],\n",
       "          [ 245,  246,  247,  248]],\n",
       "\n",
       "         [[ 249,  250,  251,  252],\n",
       "          [ 253,  254,  255,  256]],\n",
       "\n",
       "         [[ 257,  258,  259,  260],\n",
       "          [ 261,  262,  263,  264]],\n",
       "\n",
       "         [[ 265,  266,  267,  268],\n",
       "          [ 269,  270,  271,  272]],\n",
       "\n",
       "         [[ 273,  274,  275,  276],\n",
       "          [ 277,  278,  279,  280]]],\n",
       "\n",
       "\n",
       "        [[[ 281,  282,  283,  284],\n",
       "          [ 285,  286,  287,  288]],\n",
       "\n",
       "         [[ 289,  290,  291,  292],\n",
       "          [ 293,  294,  295,  296]],\n",
       "\n",
       "         [[ 297,  298,  299,  300],\n",
       "          [ 301,  302,  303,  304]],\n",
       "\n",
       "         [[ 305,  306,  307,  308],\n",
       "          [ 309,  310,  311,  312]],\n",
       "\n",
       "         [[ 313,  314,  315,  316],\n",
       "          [ 317,  318,  319,  320]]],\n",
       "\n",
       "\n",
       "        [[[ 321,  322,  323,  324],\n",
       "          [ 325,  326,  327,  328]],\n",
       "\n",
       "         [[ 329,  330,  331,  332],\n",
       "          [ 333,  334,  335,  336]],\n",
       "\n",
       "         [[ 337,  338,  339,  340],\n",
       "          [ 341,  342,  343,  344]],\n",
       "\n",
       "         [[ 345,  346,  347,  348],\n",
       "          [ 349,  350,  351,  352]],\n",
       "\n",
       "         [[ 353,  354,  355,  356],\n",
       "          [ 357,  358,  359,  360]]],\n",
       "\n",
       "\n",
       "        [[[ 361,  362,  363,  364],\n",
       "          [ 365,  366,  367,  368]],\n",
       "\n",
       "         [[ 369,  370,  371,  372],\n",
       "          [ 373,  374,  375,  376]],\n",
       "\n",
       "         [[ 377,  378,  379,  380],\n",
       "          [ 381,  382,  383,  384]],\n",
       "\n",
       "         [[ 385,  386,  387,  388],\n",
       "          [ 389,  390,  391,  392]],\n",
       "\n",
       "         [[ 393,  394,  395,  396],\n",
       "          [ 397,  398,  399,  400]]]],\n",
       "\n",
       "\n",
       "\n",
       "       [[[[ 401,  402,  403,  404],\n",
       "          [ 405,  406,  407,  408]],\n",
       "\n",
       "         [[ 409,  410,  411,  412],\n",
       "          [ 413,  414,  415,  416]],\n",
       "\n",
       "         [[ 417,  418,  419,  420],\n",
       "          [ 421,  422,  423,  424]],\n",
       "\n",
       "         [[ 425,  426,  427,  428],\n",
       "          [ 429,  430,  431,  432]],\n",
       "\n",
       "         [[ 433,  434,  435,  436],\n",
       "          [ 437,  438,  439,  440]]],\n",
       "\n",
       "\n",
       "        [[[ 441,  442,  443,  444],\n",
       "          [ 445,  446,  447,  448]],\n",
       "\n",
       "         [[ 449,  450,  451,  452],\n",
       "          [ 453,  454,  455,  456]],\n",
       "\n",
       "         [[ 457,  458,  459,  460],\n",
       "          [ 461,  462,  463,  464]],\n",
       "\n",
       "         [[ 465,  466,  467,  468],\n",
       "          [ 469,  470,  471,  472]],\n",
       "\n",
       "         [[ 473,  474,  475,  476],\n",
       "          [ 477,  478,  479,  480]]],\n",
       "\n",
       "\n",
       "        [[[ 481,  482,  483,  484],\n",
       "          [ 485,  486,  487,  488]],\n",
       "\n",
       "         [[ 489,  490,  491,  492],\n",
       "          [ 493,  494,  495,  496]],\n",
       "\n",
       "         [[ 497,  498,  499,  500],\n",
       "          [ 501,  502,  503,  504]],\n",
       "\n",
       "         [[ 505,  506,  507,  508],\n",
       "          [ 509,  510,  511,  512]],\n",
       "\n",
       "         [[ 513,  514,  515,  516],\n",
       "          [ 517,  518,  519,  520]]],\n",
       "\n",
       "\n",
       "        [[[ 521,  522,  523,  524],\n",
       "          [ 525,  526,  527,  528]],\n",
       "\n",
       "         [[ 529,  530,  531,  532],\n",
       "          [ 533,  534,  535,  536]],\n",
       "\n",
       "         [[ 537,  538,  539,  540],\n",
       "          [ 541,  542,  543,  544]],\n",
       "\n",
       "         [[ 545,  546,  547,  548],\n",
       "          [ 549,  550,  551,  552]],\n",
       "\n",
       "         [[ 553,  554,  555,  556],\n",
       "          [ 557,  558,  559,  560]]],\n",
       "\n",
       "\n",
       "        [[[ 561,  562,  563,  564],\n",
       "          [ 565,  566,  567,  568]],\n",
       "\n",
       "         [[ 569,  570,  571,  572],\n",
       "          [ 573,  574,  575,  576]],\n",
       "\n",
       "         [[ 577,  578,  579,  580],\n",
       "          [ 581,  582,  583,  584]],\n",
       "\n",
       "         [[ 585,  586,  587,  588],\n",
       "          [ 589,  590,  591,  592]],\n",
       "\n",
       "         [[ 593,  594,  595,  596],\n",
       "          [ 597,  598,  599,  600]]]],\n",
       "\n",
       "\n",
       "\n",
       "       [[[[ 601,  602,  603,  604],\n",
       "          [ 605,  606,  607,  608]],\n",
       "\n",
       "         [[ 609,  610,  611,  612],\n",
       "          [ 613,  614,  615,  616]],\n",
       "\n",
       "         [[ 617,  618,  619,  620],\n",
       "          [ 621,  622,  623,  624]],\n",
       "\n",
       "         [[ 625,  626,  627,  628],\n",
       "          [ 629,  630,  631,  632]],\n",
       "\n",
       "         [[ 633,  634,  635,  636],\n",
       "          [ 637,  638,  639,  640]]],\n",
       "\n",
       "\n",
       "        [[[ 641,  642,  643,  644],\n",
       "          [ 645,  646,  647,  648]],\n",
       "\n",
       "         [[ 649,  650,  651,  652],\n",
       "          [ 653,  654,  655,  656]],\n",
       "\n",
       "         [[ 657,  658,  659,  660],\n",
       "          [ 661,  662,  663,  664]],\n",
       "\n",
       "         [[ 665,  666,  667,  668],\n",
       "          [ 669,  670,  671,  672]],\n",
       "\n",
       "         [[ 673,  674,  675,  676],\n",
       "          [ 677,  678,  679,  680]]],\n",
       "\n",
       "\n",
       "        [[[ 681,  682,  683,  684],\n",
       "          [ 685,  686,  687,  688]],\n",
       "\n",
       "         [[ 689,  690,  691,  692],\n",
       "          [ 693,  694,  695,  696]],\n",
       "\n",
       "         [[ 697,  698,  699,  700],\n",
       "          [ 701,  702,  703,  704]],\n",
       "\n",
       "         [[ 705,  706,  707,  708],\n",
       "          [ 709,  710,  711,  712]],\n",
       "\n",
       "         [[ 713,  714,  715,  716],\n",
       "          [ 717,  718,  719,  720]]],\n",
       "\n",
       "\n",
       "        [[[ 721,  722,  723,  724],\n",
       "          [ 725,  726,  727,  728]],\n",
       "\n",
       "         [[ 729,  730,  731,  732],\n",
       "          [ 733,  734,  735,  736]],\n",
       "\n",
       "         [[ 737,  738,  739,  740],\n",
       "          [ 741,  742,  743,  744]],\n",
       "\n",
       "         [[ 745,  746,  747,  748],\n",
       "          [ 749,  750,  751,  752]],\n",
       "\n",
       "         [[ 753,  754,  755,  756],\n",
       "          [ 757,  758,  759,  760]]],\n",
       "\n",
       "\n",
       "        [[[ 761,  762,  763,  764],\n",
       "          [ 765,  766,  767,  768]],\n",
       "\n",
       "         [[ 769,  770,  771,  772],\n",
       "          [ 773,  774,  775,  776]],\n",
       "\n",
       "         [[ 777,  778,  779,  780],\n",
       "          [ 781,  782,  783,  784]],\n",
       "\n",
       "         [[ 785,  786,  787,  788],\n",
       "          [ 789,  790,  791,  792]],\n",
       "\n",
       "         [[ 793,  794,  795,  796],\n",
       "          [ 797,  798,  799,  800]]]],\n",
       "\n",
       "\n",
       "\n",
       "       [[[[ 801,  802,  803,  804],\n",
       "          [ 805,  806,  807,  808]],\n",
       "\n",
       "         [[ 809,  810,  811,  812],\n",
       "          [ 813,  814,  815,  816]],\n",
       "\n",
       "         [[ 817,  818,  819,  820],\n",
       "          [ 821,  822,  823,  824]],\n",
       "\n",
       "         [[ 825,  826,  827,  828],\n",
       "          [ 829,  830,  831,  832]],\n",
       "\n",
       "         [[ 833,  834,  835,  836],\n",
       "          [ 837,  838,  839,  840]]],\n",
       "\n",
       "\n",
       "        [[[ 841,  842,  843,  844],\n",
       "          [ 845,  846,  847,  848]],\n",
       "\n",
       "         [[ 849,  850,  851,  852],\n",
       "          [ 853,  854,  855,  856]],\n",
       "\n",
       "         [[ 857,  858,  859,  860],\n",
       "          [ 861,  862,  863,  864]],\n",
       "\n",
       "         [[ 865,  866,  867,  868],\n",
       "          [ 869,  870,  871,  872]],\n",
       "\n",
       "         [[ 873,  874,  875,  876],\n",
       "          [ 877,  878,  879,  880]]],\n",
       "\n",
       "\n",
       "        [[[ 881,  882,  883,  884],\n",
       "          [ 885,  886,  887,  888]],\n",
       "\n",
       "         [[ 889,  890,  891,  892],\n",
       "          [ 893,  894,  895,  896]],\n",
       "\n",
       "         [[ 897,  898,  899,  900],\n",
       "          [ 901,  902,  903,  904]],\n",
       "\n",
       "         [[ 905,  906,  907,  908],\n",
       "          [ 909,  910,  911,  912]],\n",
       "\n",
       "         [[ 913,  914,  915,  916],\n",
       "          [ 917,  918,  919,  920]]],\n",
       "\n",
       "\n",
       "        [[[ 921,  922,  923,  924],\n",
       "          [ 925,  926,  927,  928]],\n",
       "\n",
       "         [[ 929,  930,  931,  932],\n",
       "          [ 933,  934,  935,  936]],\n",
       "\n",
       "         [[ 937,  938,  939,  940],\n",
       "          [ 941,  942,  943,  944]],\n",
       "\n",
       "         [[ 945,  946,  947,  948],\n",
       "          [ 949,  950,  951,  952]],\n",
       "\n",
       "         [[ 953,  954,  955,  956],\n",
       "          [ 957,  958,  959,  960]]],\n",
       "\n",
       "\n",
       "        [[[ 961,  962,  963,  964],\n",
       "          [ 965,  966,  967,  968]],\n",
       "\n",
       "         [[ 969,  970,  971,  972],\n",
       "          [ 973,  974,  975,  976]],\n",
       "\n",
       "         [[ 977,  978,  979,  980],\n",
       "          [ 981,  982,  983,  984]],\n",
       "\n",
       "         [[ 985,  986,  987,  988],\n",
       "          [ 989,  990,  991,  992]],\n",
       "\n",
       "         [[ 993,  994,  995,  996],\n",
       "          [ 997,  998,  999, 1000]]]]])"
      ]
     },
     "execution_count": 32,
     "metadata": {},
     "output_type": "execute_result"
    }
   ],
   "source": [
    "arr_xd = np.arange(1,1001).reshape(5,5,5,2,-1)\n",
    "arr_xd"
   ]
  },
  {
   "cell_type": "code",
   "execution_count": 33,
   "metadata": {},
   "outputs": [
    {
     "data": {
      "text/plain": [
       "(5, 5, 5, 2, 4)"
      ]
     },
     "execution_count": 33,
     "metadata": {},
     "output_type": "execute_result"
    }
   ],
   "source": [
    "arr_xd.shape"
   ]
  },
  {
   "cell_type": "code",
   "execution_count": 34,
   "metadata": {},
   "outputs": [
    {
     "data": {
      "text/plain": [
       "array([1, 2, 3, 4, 5, 6, 7, 8])"
      ]
     },
     "execution_count": 34,
     "metadata": {},
     "output_type": "execute_result"
    }
   ],
   "source": [
    "arr_2d.reshape(-1)"
   ]
  },
  {
   "cell_type": "code",
   "execution_count": 35,
   "metadata": {},
   "outputs": [
    {
     "data": {
      "text/plain": [
       "array([1, 2, 3, 4, 5, 6, 7, 8])"
      ]
     },
     "execution_count": 35,
     "metadata": {},
     "output_type": "execute_result"
    }
   ],
   "source": [
    "#Iterating Arrays\n",
    "arr_1d = arr_2d.reshape(-1)\n",
    "arr_1d"
   ]
  },
  {
   "cell_type": "code",
   "execution_count": 38,
   "metadata": {},
   "outputs": [
    {
     "name": "stdout",
     "output_type": "stream",
     "text": [
      "1 2 3 4 5 6 7 8 "
     ]
    }
   ],
   "source": [
    "for n in arr_1d:\n",
    "    print(n,end=\" \")"
   ]
  },
  {
   "cell_type": "code",
   "execution_count": 39,
   "metadata": {},
   "outputs": [
    {
     "name": "stdout",
     "output_type": "stream",
     "text": [
      "[1 2 3 4] [5 6 7 8] "
     ]
    }
   ],
   "source": [
    "#2D\n",
    "for n in arr_2d:\n",
    "    print(n,end=\" \")"
   ]
  },
  {
   "cell_type": "code",
   "execution_count": 41,
   "metadata": {},
   "outputs": [
    {
     "name": "stdout",
     "output_type": "stream",
     "text": [
      "1 2 3 4 5 6 7 8 "
     ]
    }
   ],
   "source": [
    "for n in arr_2d:\n",
    "    for x in n:\n",
    "        print(x,end=\" \")"
   ]
  },
  {
   "cell_type": "code",
   "execution_count": 43,
   "metadata": {},
   "outputs": [
    {
     "name": "stdout",
     "output_type": "stream",
     "text": [
      "1 2 3 4 5 6 7 8 "
     ]
    }
   ],
   "source": [
    "#3D\n",
    "for arr2 in arr_3d:\n",
    "    for arr in arr2:\n",
    "        for n in arr:\n",
    "              print(n,end=\" \")\n",
    "            "
   ]
  },
  {
   "cell_type": "code",
   "execution_count": 44,
   "metadata": {},
   "outputs": [
    {
     "name": "stdout",
     "output_type": "stream",
     "text": [
      "1 2 3 4 5 6 7 8 "
     ]
    }
   ],
   "source": [
    "#nditer iterates on each scaler element in the np array\n",
    "for n in np.nditer(arr_3d):\n",
    "    print(n,end=' ')"
   ]
  },
  {
   "cell_type": "code",
   "execution_count": 46,
   "metadata": {},
   "outputs": [],
   "source": [
    "#mulitidimensional index iteator\n",
    "# ndenumerate()"
   ]
  },
  {
   "cell_type": "code",
   "execution_count": 47,
   "metadata": {},
   "outputs": [
    {
     "name": "stdout",
     "output_type": "stream",
     "text": [
      "(0,) 1\n",
      "(1,) 2\n",
      "(2,) 3\n",
      "(3,) 4\n",
      "(4,) 5\n",
      "(5,) 6\n",
      "(6,) 7\n",
      "(7,) 8\n"
     ]
    }
   ],
   "source": [
    "for i,n in np.ndenumerate(arr_1d):\n",
    "    print(i,n)"
   ]
  },
  {
   "cell_type": "code",
   "execution_count": 48,
   "metadata": {},
   "outputs": [
    {
     "name": "stdout",
     "output_type": "stream",
     "text": [
      "(0, 0) 1\n",
      "(0, 1) 2\n",
      "(0, 2) 3\n",
      "(0, 3) 4\n",
      "(1, 0) 5\n",
      "(1, 1) 6\n",
      "(1, 2) 7\n",
      "(1, 3) 8\n"
     ]
    }
   ],
   "source": [
    "for i,n in np.ndenumerate(arr_2d):\n",
    "    print(i,n)"
   ]
  },
  {
   "cell_type": "code",
   "execution_count": 49,
   "metadata": {},
   "outputs": [
    {
     "name": "stdout",
     "output_type": "stream",
     "text": [
      "(0, 0, 0) 1\n",
      "(0, 0, 1) 2\n",
      "(0, 1, 0) 3\n",
      "(0, 1, 1) 4\n",
      "(1, 0, 0) 5\n",
      "(1, 0, 1) 6\n",
      "(1, 1, 0) 7\n",
      "(1, 1, 1) 8\n"
     ]
    }
   ],
   "source": [
    "for i,n in np.ndenumerate(arr_3d):\n",
    "    print(i,n)"
   ]
  },
  {
   "cell_type": "code",
   "execution_count": 50,
   "metadata": {},
   "outputs": [
    {
     "data": {
      "text/plain": [
       "7"
      ]
     },
     "execution_count": 50,
     "metadata": {},
     "output_type": "execute_result"
    }
   ],
   "source": [
    "arr_3d[1,1,0]"
   ]
  },
  {
   "cell_type": "code",
   "execution_count": 51,
   "metadata": {},
   "outputs": [
    {
     "data": {
      "text/plain": [
       "(2, 2, 2)"
      ]
     },
     "execution_count": 51,
     "metadata": {},
     "output_type": "execute_result"
    }
   ],
   "source": [
    "arr_3d.shape"
   ]
  },
  {
   "cell_type": "code",
   "execution_count": 52,
   "metadata": {},
   "outputs": [
    {
     "data": {
      "text/plain": [
       "array([[ 1,  4,  9, 16],\n",
       "       [25, 36, 49, 64]])"
      ]
     },
     "execution_count": 52,
     "metadata": {},
     "output_type": "execute_result"
    }
   ],
   "source": [
    "# operations *,+,-,/\n",
    "arr_2d*arr_2d"
   ]
  },
  {
   "cell_type": "code",
   "execution_count": 53,
   "metadata": {},
   "outputs": [
    {
     "data": {
      "text/plain": [
       "array([[ 2,  4,  6,  8],\n",
       "       [10, 12, 14, 16]])"
      ]
     },
     "execution_count": 53,
     "metadata": {},
     "output_type": "execute_result"
    }
   ],
   "source": [
    "arr_2d+arr_2d"
   ]
  },
  {
   "cell_type": "code",
   "execution_count": 57,
   "metadata": {},
   "outputs": [
    {
     "data": {
      "text/plain": [
       "array([[1, 2, 3, 4],\n",
       "       [5, 6, 7, 8]])"
      ]
     },
     "execution_count": 57,
     "metadata": {},
     "output_type": "execute_result"
    }
   ],
   "source": [
    "#.t same as self.transpose() , expect that self if self.ndim < 2d\n",
    "#returns the transpose of the matrix\n",
    "#transpose reversee or permute the axes if an array; returnes the modfied array \n",
    "arr_2d"
   ]
  },
  {
   "cell_type": "code",
   "execution_count": 58,
   "metadata": {},
   "outputs": [
    {
     "data": {
      "text/plain": [
       "(2, 4)"
      ]
     },
     "execution_count": 58,
     "metadata": {},
     "output_type": "execute_result"
    }
   ],
   "source": [
    "arr_2d.shape"
   ]
  },
  {
   "cell_type": "code",
   "execution_count": 62,
   "metadata": {},
   "outputs": [
    {
     "data": {
      "text/plain": [
       "array([[1, 5],\n",
       "       [2, 6],\n",
       "       [3, 7],\n",
       "       [4, 8]])"
      ]
     },
     "execution_count": 62,
     "metadata": {},
     "output_type": "execute_result"
    }
   ],
   "source": [
    "arr_2d.T"
   ]
  },
  {
   "cell_type": "raw",
   "metadata": {},
   "source": [
    "t = arr_2d.T"
   ]
  },
  {
   "cell_type": "code",
   "execution_count": null,
   "metadata": {},
   "outputs": [],
   "source": []
  },
  {
   "cell_type": "code",
   "execution_count": 64,
   "metadata": {},
   "outputs": [
    {
     "ename": "NameError",
     "evalue": "name 't' is not defined",
     "output_type": "error",
     "traceback": [
      "\u001b[1;31m---------------------------------------------------------------------------\u001b[0m",
      "\u001b[1;31mNameError\u001b[0m                                 Traceback (most recent call last)",
      "\u001b[1;32m<ipython-input-64-d68eea4137f8>\u001b[0m in \u001b[0;36m<module>\u001b[1;34m\u001b[0m\n\u001b[1;32m----> 1\u001b[1;33m \u001b[0mt\u001b[0m\u001b[1;33m.\u001b[0m\u001b[0mshape\u001b[0m\u001b[1;33m\u001b[0m\u001b[1;33m\u001b[0m\u001b[0m\n\u001b[0m",
      "\u001b[1;31mNameError\u001b[0m: name 't' is not defined"
     ]
    }
   ],
   "source": [
    "t.shape"
   ]
  },
  {
   "cell_type": "code",
   "execution_count": 65,
   "metadata": {},
   "outputs": [
    {
     "data": {
      "text/plain": [
       "array([7, 8])"
      ]
     },
     "execution_count": 65,
     "metadata": {},
     "output_type": "execute_result"
    }
   ],
   "source": [
    "arr"
   ]
  },
  {
   "cell_type": "code",
   "execution_count": 66,
   "metadata": {},
   "outputs": [
    {
     "data": {
      "text/plain": [
       "array([[1, 2, 3, 4],\n",
       "       [5, 6, 7, 8]])"
      ]
     },
     "execution_count": 66,
     "metadata": {},
     "output_type": "execute_result"
    }
   ],
   "source": [
    "arr_2d"
   ]
  },
  {
   "cell_type": "code",
   "execution_count": 67,
   "metadata": {},
   "outputs": [
    {
     "data": {
      "text/plain": [
       "array([[1, 5],\n",
       "       [2, 6],\n",
       "       [3, 7],\n",
       "       [4, 8]])"
      ]
     },
     "execution_count": 67,
     "metadata": {},
     "output_type": "execute_result"
    }
   ],
   "source": [
    "t = arr_2d.T\n",
    "t"
   ]
  },
  {
   "cell_type": "code",
   "execution_count": 68,
   "metadata": {},
   "outputs": [
    {
     "data": {
      "text/plain": [
       "array([[1, 5],\n",
       "       [2, 6],\n",
       "       [3, 7],\n",
       "       [4, 8]])"
      ]
     },
     "execution_count": 68,
     "metadata": {},
     "output_type": "execute_result"
    }
   ],
   "source": [
    "arr_2d.T\n",
    "t"
   ]
  },
  {
   "cell_type": "code",
   "execution_count": 69,
   "metadata": {},
   "outputs": [
    {
     "data": {
      "text/plain": [
       "array([[100, 100, 100, 100],\n",
       "       [100, 100, 100, 100]])"
      ]
     },
     "execution_count": 69,
     "metadata": {},
     "output_type": "execute_result"
    }
   ],
   "source": [
    "arr_2d[:3]= 100\n",
    "arr_2d"
   ]
  },
  {
   "cell_type": "code",
   "execution_count": 71,
   "metadata": {},
   "outputs": [
    {
     "data": {
      "text/plain": [
       "array([[100,  25],\n",
       "       [100,  25],\n",
       "       [100,  25],\n",
       "       [100,  25]])"
      ]
     },
     "execution_count": 71,
     "metadata": {},
     "output_type": "execute_result"
    }
   ],
   "source": [
    "t[:,-1]= 25\n",
    "t"
   ]
  },
  {
   "cell_type": "code",
   "execution_count": 73,
   "metadata": {},
   "outputs": [
    {
     "data": {
      "text/plain": [
       "array([[[ 1,  2,  3,  4],\n",
       "        [ 5,  6,  7,  8],\n",
       "        [ 9, 10, 11, 12],\n",
       "        [13, 14, 15, 16],\n",
       "        [17, 18, 19, 20]]])"
      ]
     },
     "execution_count": 73,
     "metadata": {},
     "output_type": "execute_result"
    }
   ],
   "source": [
    "arr_3d = np.arange(1, 21).reshape(-1, 5, 4)\n",
    "arr_3d"
   ]
  },
  {
   "cell_type": "code",
   "execution_count": 74,
   "metadata": {},
   "outputs": [
    {
     "data": {
      "text/plain": [
       "array([[[ 1],\n",
       "        [ 5],\n",
       "        [ 9],\n",
       "        [13],\n",
       "        [17]],\n",
       "\n",
       "       [[ 2],\n",
       "        [ 6],\n",
       "        [10],\n",
       "        [14],\n",
       "        [18]],\n",
       "\n",
       "       [[ 3],\n",
       "        [ 7],\n",
       "        [11],\n",
       "        [15],\n",
       "        [19]],\n",
       "\n",
       "       [[ 4],\n",
       "        [ 8],\n",
       "        [12],\n",
       "        [16],\n",
       "        [20]]])"
      ]
     },
     "execution_count": 74,
     "metadata": {},
     "output_type": "execute_result"
    }
   ],
   "source": [
    "arr_3d.T"
   ]
  },
  {
   "cell_type": "code",
   "execution_count": 75,
   "metadata": {},
   "outputs": [
    {
     "data": {
      "text/plain": [
       "(4, 5, 1)"
      ]
     },
     "execution_count": 75,
     "metadata": {},
     "output_type": "execute_result"
    }
   ],
   "source": [
    "arr_3d.T.shape"
   ]
  },
  {
   "cell_type": "code",
   "execution_count": 78,
   "metadata": {},
   "outputs": [
    {
     "data": {
      "text/plain": [
       "array([[1, 2, 3],\n",
       "       [4, 5, 6]])"
      ]
     },
     "execution_count": 78,
     "metadata": {},
     "output_type": "execute_result"
    }
   ],
   "source": [
    "#transpose\n",
    "arr_2d = np.arange(1,7).reshape(2,3)\n",
    "arr_2d"
   ]
  },
  {
   "cell_type": "code",
   "execution_count": 79,
   "metadata": {},
   "outputs": [
    {
     "data": {
      "text/plain": [
       "array([[1, 4],\n",
       "       [2, 5],\n",
       "       [3, 6]])"
      ]
     },
     "execution_count": 79,
     "metadata": {},
     "output_type": "execute_result"
    }
   ],
   "source": [
    "np.transpose(arr_2d)"
   ]
  },
  {
   "cell_type": "code",
   "execution_count": 81,
   "metadata": {},
   "outputs": [
    {
     "data": {
      "text/plain": [
       "array([[[ 0,  1],\n",
       "        [ 2,  3],\n",
       "        [ 4,  5],\n",
       "        [ 6,  7],\n",
       "        [ 8,  9]],\n",
       "\n",
       "       [[10, 11],\n",
       "        [12, 13],\n",
       "        [14, 15],\n",
       "        [16, 17],\n",
       "        [18, 19]]])"
      ]
     },
     "execution_count": 81,
     "metadata": {},
     "output_type": "execute_result"
    }
   ],
   "source": [
    "arr_3d = np.arange(20).reshape(2,5,2)\n",
    "arr_3d"
   ]
  },
  {
   "cell_type": "code",
   "execution_count": 82,
   "metadata": {},
   "outputs": [
    {
     "data": {
      "text/plain": [
       "array([[[ 0, 10],\n",
       "        [ 2, 12],\n",
       "        [ 4, 14],\n",
       "        [ 6, 16],\n",
       "        [ 8, 18]],\n",
       "\n",
       "       [[ 1, 11],\n",
       "        [ 3, 13],\n",
       "        [ 5, 15],\n",
       "        [ 7, 17],\n",
       "        [ 9, 19]]])"
      ]
     },
     "execution_count": 82,
     "metadata": {},
     "output_type": "execute_result"
    }
   ],
   "source": [
    "arr_3d.T"
   ]
  },
  {
   "cell_type": "code",
   "execution_count": 83,
   "metadata": {},
   "outputs": [
    {
     "data": {
      "text/plain": [
       "array([[[ 0, 10],\n",
       "        [ 2, 12],\n",
       "        [ 4, 14],\n",
       "        [ 6, 16],\n",
       "        [ 8, 18]],\n",
       "\n",
       "       [[ 1, 11],\n",
       "        [ 3, 13],\n",
       "        [ 5, 15],\n",
       "        [ 7, 17],\n",
       "        [ 9, 19]]])"
      ]
     },
     "execution_count": 83,
     "metadata": {},
     "output_type": "execute_result"
    }
   ],
   "source": [
    "np.transpose(arr_3d)"
   ]
  },
  {
   "cell_type": "code",
   "execution_count": 84,
   "metadata": {},
   "outputs": [
    {
     "data": {
      "text/plain": [
       "(2, 5, 2)"
      ]
     },
     "execution_count": 84,
     "metadata": {},
     "output_type": "execute_result"
    }
   ],
   "source": [
    "np.transpose(arr_3d).shape"
   ]
  },
  {
   "cell_type": "code",
   "execution_count": 86,
   "metadata": {},
   "outputs": [
    {
     "data": {
      "text/plain": [
       "array([[[ 0,  2,  4,  6,  8],\n",
       "        [ 1,  3,  5,  7,  9]],\n",
       "\n",
       "       [[10, 12, 14, 16, 18],\n",
       "        [11, 13, 15, 17, 19]]])"
      ]
     },
     "execution_count": 86,
     "metadata": {},
     "output_type": "execute_result"
    }
   ],
   "source": [
    "arr_3d.transpose((0,2,1))"
   ]
  },
  {
   "cell_type": "code",
   "execution_count": 87,
   "metadata": {},
   "outputs": [
    {
     "data": {
      "text/plain": [
       "(2, 2, 5)"
      ]
     },
     "execution_count": 87,
     "metadata": {},
     "output_type": "execute_result"
    }
   ],
   "source": [
    "arr_3d.transpose((0,2,1)).shape"
   ]
  },
  {
   "cell_type": "code",
   "execution_count": 88,
   "metadata": {},
   "outputs": [
    {
     "data": {
      "text/plain": [
       "2"
      ]
     },
     "execution_count": 88,
     "metadata": {},
     "output_type": "execute_result"
    }
   ],
   "source": [
    "arr_3d.transpose((0,2,1)).shape[0]"
   ]
  },
  {
   "cell_type": "code",
   "execution_count": 89,
   "metadata": {},
   "outputs": [
    {
     "data": {
      "text/plain": [
       "2"
      ]
     },
     "execution_count": 89,
     "metadata": {},
     "output_type": "execute_result"
    }
   ],
   "source": [
    "arr_3d.transpose((0,2,1)).shape[1]"
   ]
  },
  {
   "cell_type": "code",
   "execution_count": 91,
   "metadata": {},
   "outputs": [
    {
     "data": {
      "text/plain": [
       "5"
      ]
     },
     "execution_count": 91,
     "metadata": {},
     "output_type": "execute_result"
    }
   ],
   "source": [
    "arr_3d.transpose((0,2,1)).shape[2]"
   ]
  },
  {
   "cell_type": "code",
   "execution_count": 92,
   "metadata": {},
   "outputs": [
    {
     "data": {
      "text/plain": [
       "array([[[ 0,  2,  4,  6,  8],\n",
       "        [10, 12, 14, 16, 18]],\n",
       "\n",
       "       [[ 1,  3,  5,  7,  9],\n",
       "        [11, 13, 15, 17, 19]]])"
      ]
     },
     "execution_count": 92,
     "metadata": {},
     "output_type": "execute_result"
    }
   ],
   "source": [
    "arr_3d.transpose((2,0,1))"
   ]
  },
  {
   "cell_type": "code",
   "execution_count": 93,
   "metadata": {},
   "outputs": [
    {
     "data": {
      "text/plain": [
       "array([[[ 0,  1,  2,  3],\n",
       "        [ 4,  5,  6,  7],\n",
       "        [ 8,  9, 10, 11]],\n",
       "\n",
       "       [[12, 13, 14, 15],\n",
       "        [16, 17, 18, 19],\n",
       "        [20, 21, 22, 23]]])"
      ]
     },
     "execution_count": 93,
     "metadata": {},
     "output_type": "execute_result"
    }
   ],
   "source": [
    "#swapaxes\n",
    "arr_3d = np.arange(24).reshape(2,3,4)\n",
    "arr_3d"
   ]
  },
  {
   "cell_type": "code",
   "execution_count": 94,
   "metadata": {},
   "outputs": [
    {
     "data": {
      "text/plain": [
       "array([[[ 0,  1,  2,  3],\n",
       "        [12, 13, 14, 15]],\n",
       "\n",
       "       [[ 4,  5,  6,  7],\n",
       "        [16, 17, 18, 19]],\n",
       "\n",
       "       [[ 8,  9, 10, 11],\n",
       "        [20, 21, 22, 23]]])"
      ]
     },
     "execution_count": 94,
     "metadata": {},
     "output_type": "execute_result"
    }
   ],
   "source": [
    "arr_3d.swapaxes(0,1)"
   ]
  },
  {
   "cell_type": "code",
   "execution_count": 95,
   "metadata": {},
   "outputs": [
    {
     "data": {
      "text/plain": [
       "(3, 2, 4)"
      ]
     },
     "execution_count": 95,
     "metadata": {},
     "output_type": "execute_result"
    }
   ],
   "source": [
    "arr_3d.swapaxes(0,1).shape"
   ]
  },
  {
   "cell_type": "code",
   "execution_count": 96,
   "metadata": {},
   "outputs": [
    {
     "data": {
      "text/plain": [
       "array([[[ 0, 12],\n",
       "        [ 4, 16],\n",
       "        [ 8, 20]],\n",
       "\n",
       "       [[ 1, 13],\n",
       "        [ 5, 17],\n",
       "        [ 9, 21]],\n",
       "\n",
       "       [[ 2, 14],\n",
       "        [ 6, 18],\n",
       "        [10, 22]],\n",
       "\n",
       "       [[ 3, 15],\n",
       "        [ 7, 19],\n",
       "        [11, 23]]])"
      ]
     },
     "execution_count": 96,
     "metadata": {},
     "output_type": "execute_result"
    }
   ],
   "source": [
    "#4,3,2\n",
    "arr_3d.swapaxes(0,2)"
   ]
  },
  {
   "cell_type": "code",
   "execution_count": null,
   "metadata": {},
   "outputs": [],
   "source": []
  }
 ],
 "metadata": {
  "kernelspec": {
   "display_name": "Python 3.7 - default",
   "language": "python",
   "name": "py37_default"
  },
  "language_info": {
   "codemirror_mode": {
    "name": "ipython",
    "version": 3
   },
   "file_extension": ".py",
   "mimetype": "text/x-python",
   "name": "python",
   "nbconvert_exporter": "python",
   "pygments_lexer": "ipython3",
   "version": "3.7.7"
  }
 },
 "nbformat": 4,
 "nbformat_minor": 4
}
