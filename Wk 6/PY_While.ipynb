{
 "cells": [
  {
   "cell_type": "markdown",
   "metadata": {},
   "source": [
    "# Joshua Chavez\n",
    "## Week 6 2/22/2024 - 2/27/24\n",
    "### Python - Whlie Loop"
   ]
  },
  {
   "cell_type": "markdown",
   "metadata": {},
   "source": [
    "*** the genral format of python while loops:**\n",
    "    <code> While test:\n",
    "        Staments </code>"
   ]
  },
  {
   "cell_type": "code",
   "execution_count": 1,
   "metadata": {},
   "outputs": [
    {
     "name": "stdout",
     "output_type": "stream",
     "text": [
      "num = 1\n",
      "num = 2\n",
      "num = 3\n",
      "num = 4\n",
      "num = 5\n",
      "num = 6\n",
      "num = 7\n",
      "num = 8\n",
      "num = 9\n",
      "num = 10\n",
      "num stops at = 11\n"
     ]
    }
   ],
   "source": [
    "num = 1\n",
    "while num <= 10:\n",
    "    print (f\"num = {num}\")\n",
    "    num += 1\n",
    "print(f\"num stops at = {num}\")"
   ]
  },
  {
   "cell_type": "code",
   "execution_count": 2,
   "metadata": {},
   "outputs": [
    {
     "name": "stdout",
     "output_type": "stream",
     "text": [
      "num = 1\n",
      "num = 2\n",
      "num = 3\n",
      "num = 4\n",
      "num = 5\n",
      "num = 6\n",
      "num = 7\n",
      "num = 8\n",
      "num = 9\n",
      "num = 10\n",
      "num stops at = 11\n"
     ]
    }
   ],
   "source": [
    "num = 1\n",
    "while num <= 10:\n",
    "    print (f\"num = {num}\")\n",
    "    num += 1\n",
    "else:\n",
    "    print(f\"num stops at = {num}\")"
   ]
  },
  {
   "cell_type": "code",
   "execution_count": 3,
   "metadata": {},
   "outputs": [
    {
     "data": {
      "text/plain": [
       "[10, 11, 12, 13, 14, 15, 16, 17, 18, 19, 20]"
      ]
     },
     "execution_count": 3,
     "metadata": {},
     "output_type": "execute_result"
    }
   ],
   "source": [
    "lst = list(range(10,21))\n",
    "lst"
   ]
  },
  {
   "cell_type": "code",
   "execution_count": 4,
   "metadata": {},
   "outputs": [
    {
     "name": "stdout",
     "output_type": "stream",
     "text": [
      "0 10\n",
      "1 11\n",
      "2 12\n",
      "3 13\n",
      "4 14\n",
      "5 15\n",
      "6 16\n",
      "7 17\n",
      "8 18\n",
      "9 19\n",
      "10 20\n"
     ]
    }
   ],
   "source": [
    "idx = 0 \n",
    "while idx < len(lst):\n",
    "    print(idx, lst[idx])\n",
    "    idx+=1\n"
   ]
  },
  {
   "cell_type": "code",
   "execution_count": 5,
   "metadata": {},
   "outputs": [
    {
     "name": "stdout",
     "output_type": "stream",
     "text": [
      "0 C\n",
      "1 i\n",
      "2 s\n",
      "3 3\n",
      "4 1\n",
      "5 0\n",
      "6  \n",
      "7 d\n",
      "8 a\n",
      "9 t\n",
      "10 a\n",
      "11  \n",
      "12 a\n",
      "13 n\n",
      "14 a\n",
      "15 l\n",
      "16 y\n",
      "17 t\n",
      "18 i\n",
      "19 c\n",
      "20 s\n"
     ]
    }
   ],
   "source": [
    "idx = 0 \n",
    "s = 'Cis310 data analytics'\n",
    "while idx < len(s):\n",
    "    print(idx, s[idx])\n",
    "    idx+=1"
   ]
  },
  {
   "cell_type": "code",
   "execution_count": 6,
   "metadata": {},
   "outputs": [
    {
     "data": {
      "text/plain": [
       "[10, 11, 12, 13, 14, 15, 16, 17, 18, 19, 20]"
      ]
     },
     "execution_count": 6,
     "metadata": {},
     "output_type": "execute_result"
    }
   ],
   "source": [
    "lst"
   ]
  },
  {
   "cell_type": "code",
   "execution_count": 7,
   "metadata": {},
   "outputs": [],
   "source": [
    "lst = list(range(10,21))\n"
   ]
  },
  {
   "cell_type": "code",
   "execution_count": 8,
   "metadata": {},
   "outputs": [
    {
     "data": {
      "text/plain": [
       "[10, 11, 12, 13, 14, 15, 16, 17, 18, 19, 20]"
      ]
     },
     "execution_count": 8,
     "metadata": {},
     "output_type": "execute_result"
    }
   ],
   "source": [
    "lst"
   ]
  },
  {
   "cell_type": "code",
   "execution_count": 9,
   "metadata": {},
   "outputs": [
    {
     "name": "stdout",
     "output_type": "stream",
     "text": [
      "20\n",
      "19\n",
      "18\n",
      "17\n",
      "16\n",
      "15\n",
      "14\n",
      "13\n",
      "12\n",
      "11\n",
      "10\n"
     ]
    }
   ],
   "source": [
    "while lst:\n",
    "    print(lst.pop())"
   ]
  },
  {
   "cell_type": "code",
   "execution_count": 10,
   "metadata": {},
   "outputs": [],
   "source": [
    "colors = ['Brown','Yellow','Green','Orange','Blue']"
   ]
  },
  {
   "cell_type": "code",
   "execution_count": 11,
   "metadata": {},
   "outputs": [
    {
     "name": "stdout",
     "output_type": "stream",
     "text": [
      "0 Brown\n",
      "1 Yellow\n",
      "2 Green\n",
      "3 Orange\n",
      "4 Blue\n"
     ]
    }
   ],
   "source": [
    "i = 0\n",
    "while i < len(colors):\n",
    "    print (i, colors[i])\n",
    "    i += 1\n"
   ]
  },
  {
   "cell_type": "code",
   "execution_count": null,
   "metadata": {},
   "outputs": [],
   "source": []
  },
  {
   "cell_type": "code",
   "execution_count": 12,
   "metadata": {},
   "outputs": [],
   "source": [
    "#Break the loop as soon as it seeas 'a' or 'l'"
   ]
  },
  {
   "cell_type": "code",
   "execution_count": 15,
   "metadata": {},
   "outputs": [
    {
     "name": "stdout",
     "output_type": "stream",
     "text": [
      "0 C\n",
      "1 i\n",
      "2 s\n",
      "3 3\n",
      "4 1\n",
      "5 0\n",
      "6  \n",
      "7 d\n"
     ]
    }
   ],
   "source": [
    "idx = 0\n",
    "s = 'Cis310 data analytics'\n",
    "while idx < len(s):\n",
    "    if s[idx] == 'a' or s[idx] == 'l':\n",
    "        break\n",
    "    print(idx, s[idx])\n",
    "    idx += 1\n"
   ]
  },
  {
   "cell_type": "code",
   "execution_count": 16,
   "metadata": {},
   "outputs": [],
   "source": [
    "#Continue \n",
    "#skip printing when it sees 'a' or 'l'\n",
    "idx = 0 \n",
    "s = 'Cis310 data analytics'"
   ]
  },
  {
   "cell_type": "code",
   "execution_count": 17,
   "metadata": {},
   "outputs": [
    {
     "data": {
      "text/plain": [
       "'Cis310 data analytics'"
      ]
     },
     "execution_count": 17,
     "metadata": {},
     "output_type": "execute_result"
    }
   ],
   "source": [
    "s"
   ]
  },
  {
   "cell_type": "code",
   "execution_count": 18,
   "metadata": {},
   "outputs": [
    {
     "name": "stdout",
     "output_type": "stream",
     "text": [
      "0 C\n",
      "1 i\n",
      "2 s\n",
      "3 3\n",
      "4 1\n",
      "5 0\n",
      "6  \n",
      "7 d\n",
      "9 t\n",
      "11  \n",
      "13 n\n",
      "16 y\n",
      "17 t\n",
      "18 i\n",
      "19 c\n",
      "20 s\n"
     ]
    }
   ],
   "source": [
    "idx = 0\n",
    "while idx < len(s):\n",
    "    if s[idx] == 'a' or s[idx] == 'l':\n",
    "        idx += 1\n",
    "        continue\n",
    "\n",
    "    print(idx, s[idx])\n",
    "    idx += 1\n",
    "\n",
    "    # Add a safeguard to prevent an infinite loop\n",
    "    if idx >= len(s):\n",
    "        break\n"
   ]
  },
  {
   "cell_type": "code",
   "execution_count": 19,
   "metadata": {},
   "outputs": [
    {
     "name": "stdout",
     "output_type": "stream",
     "text": [
      "0 C\n",
      "1 i\n",
      "2 s\n",
      "3 3\n",
      "4 1\n",
      "5 0\n",
      "6  \n",
      "7 d\n",
      "9 t\n",
      "11  \n",
      "13 n\n",
      "16 y\n",
      "17 t\n",
      "18 i\n",
      "19 c\n",
      "20 s\n"
     ]
    }
   ],
   "source": [
    "idx = 0\n",
    "s = 'Cis310 data analytics'\n",
    "while idx < len(s):\n",
    "    if s[idx] == 'a' or s[idx] == 'l':\n",
    "        idx += 1\n",
    "        continue\n",
    "\n",
    "    print(idx, s[idx])\n",
    "    idx += 1\n",
    "\n",
    "    # Add a safeguard to prevent an infinite loop\n",
    "    if idx >= len(s):\n",
    "        pass\n",
    "\n",
    "    "
   ]
  },
  {
   "cell_type": "code",
   "execution_count": 20,
   "metadata": {},
   "outputs": [
    {
     "name": "stdout",
     "output_type": "stream",
     "text": [
      "Entere a digit (-1 to stop)2\n",
      "num=  2\n",
      "Entere a digit (-1 to stop)1\n",
      "num=  1\n",
      "Entere a digit (-1 to stop)3\n",
      "num=  3\n",
      "Entere a digit (-1 to stop)5\n",
      "num=  5\n",
      "Entere a digit (-1 to stop)8\n",
      "num=  8\n",
      "Entere a digit (-1 to stop)123342\n",
      "num=  123342\n",
      "Entere a digit (-1 to stop)-1\n"
     ]
    }
   ],
   "source": [
    "#loop baised on the user input\n",
    "num = int(input(\"Entere a digit (-1 to stop)\"))\n",
    "\n",
    "while num != -1:\n",
    "    print ('num= ', num)\n",
    "    num = int(input(\"Enter a digit (-1 to stop)\"))\n",
    "        "
   ]
  },
  {
   "cell_type": "code",
   "execution_count": null,
   "metadata": {},
   "outputs": [],
   "source": []
  },
  {
   "cell_type": "code",
   "execution_count": null,
   "metadata": {},
   "outputs": [],
   "source": []
  },
  {
   "cell_type": "code",
   "execution_count": null,
   "metadata": {},
   "outputs": [],
   "source": []
  }
 ],
 "metadata": {
  "kernelspec": {
   "display_name": "Python 3.7 - default",
   "language": "python",
   "name": "py37_default"
  },
  "language_info": {
   "codemirror_mode": {
    "name": "ipython",
    "version": 3
   },
   "file_extension": ".py",
   "mimetype": "text/x-python",
   "name": "python",
   "nbconvert_exporter": "python",
   "pygments_lexer": "ipython3",
   "version": "3.7.7"
  }
 },
 "nbformat": 4,
 "nbformat_minor": 4
}
